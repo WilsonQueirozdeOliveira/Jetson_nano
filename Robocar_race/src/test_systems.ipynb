{
 "cells": [
  {
   "cell_type": "markdown",
   "metadata": {},
   "source": [
    "# test_gps"
   ]
  },
  {
   "cell_type": "code",
   "execution_count": null,
   "metadata": {},
   "outputs": [
    {
     "name": "stdout",
     "output_type": "stream",
     "text": [
      "\n",
      "\n",
      "$GPRMC,174801.40,A,2342.38358,S,04635.75938,W,0.082,,080320,,,A*75\n",
      "\n",
      "time seconds read_gps() string 0.2491893768310547\n",
      "\n",
      "\n",
      "-23.706392833333332\n",
      "time seconds Latitude º 0.10461568832397461\n",
      "\n",
      "\n",
      "-46.595989666666675\n",
      "time seconds Longitude º 0.1068735122680664\n",
      "\n",
      "\n",
      "0.10803324\n",
      "time seconds Velocity m/s 0.09912276268005371\n",
      "time seconds all 0.5610687732696533\n"
     ]
    }
   ],
   "source": [
    "import time\n",
    "import os\n",
    "from IPython.display import clear_output\n",
    "from GPS_VK2828U7G5LF import init_gps_GPRMC,read_gps,read_latitude,read_longitude,read_velocity\n",
    "\n",
    "start = time.time()\n",
    "init_gps_GPRMC()\n",
    "end = time.time()\n",
    "print(\"\\n\")\n",
    "print(\"time seconds init_gps_GPRMC()\", end-start)\n",
    "\n",
    "time.sleep(3)\n",
    "\n",
    "while True:\n",
    "    start_all = time.time()\n",
    "    \n",
    "    print(\"\\n\")\n",
    "    start = time.time()\n",
    "    print(read_gps())\n",
    "    end = time.time()\n",
    "    print(\"time seconds read_gps() string\", end-start)\n",
    "\n",
    "    print(\"\\n\")\n",
    "    start = time.time()\n",
    "    print(read_latitude())\n",
    "    end = time.time()\n",
    "    print(\"time seconds Latitude º\", end-start)\n",
    "\n",
    "    print(\"\\n\")\n",
    "    start = time.time()\n",
    "    print(read_longitude())\n",
    "    end = time.time()\n",
    "    print(\"time seconds Longitude º\", end-start)\n",
    "\n",
    "    print(\"\\n\")\n",
    "    start = time.time()\n",
    "    print(read_velocity())\n",
    "    end = time.time()\n",
    "    print(\"time seconds Velocity m/s\", end-start)\n",
    "    \n",
    "    print(\"time seconds all\", end-start_all)# tolal time cost\n",
    "    time.sleep(5)\n",
    "    os.system('cls' if os.name == 'nt' else 'clear')#windows linux\n",
    "    clear_output(wait=True)#jupyter"
   ]
  },
  {
   "cell_type": "code",
   "execution_count": null,
   "metadata": {},
   "outputs": [],
   "source": []
  }
 ],
 "metadata": {
  "kernelspec": {
   "display_name": "Python 3",
   "language": "python",
   "name": "python3"
  },
  "language_info": {
   "codemirror_mode": {
    "name": "ipython",
    "version": 3
   },
   "file_extension": ".py",
   "mimetype": "text/x-python",
   "name": "python",
   "nbconvert_exporter": "python",
   "pygments_lexer": "ipython3",
   "version": "3.6.9"
  }
 },
 "nbformat": 4,
 "nbformat_minor": 4
}
